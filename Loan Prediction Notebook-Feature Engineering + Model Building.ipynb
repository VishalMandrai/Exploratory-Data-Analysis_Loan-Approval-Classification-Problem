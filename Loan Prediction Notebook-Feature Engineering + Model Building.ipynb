{
 "cells": [
  {
   "cell_type": "markdown",
   "metadata": {},
   "source": [
    "# Loan Approval Predicition Model:"
   ]
  },
  {
   "cell_type": "code",
   "execution_count": 1,
   "metadata": {},
   "outputs": [],
   "source": [
    "import pandas as pd\n",
    "import numpy as np\n",
    "import matplotlib.pyplot as plt\n",
    "import seaborn as sns\n",
    "sns.set()\n",
    "\n",
    "import random\n",
    "from collections import Counter\n",
    "\n",
    "#pd.options.display.max_rows = None\n",
    "#pd.options.display.max_columns = None"
   ]
  },
  {
   "cell_type": "code",
   "execution_count": 2,
   "metadata": {},
   "outputs": [
    {
     "data": {
      "text/html": [
       "<div>\n",
       "<style scoped>\n",
       "    .dataframe tbody tr th:only-of-type {\n",
       "        vertical-align: middle;\n",
       "    }\n",
       "\n",
       "    .dataframe tbody tr th {\n",
       "        vertical-align: top;\n",
       "    }\n",
       "\n",
       "    .dataframe thead th {\n",
       "        text-align: right;\n",
       "    }\n",
       "</style>\n",
       "<table border=\"1\" class=\"dataframe\">\n",
       "  <thead>\n",
       "    <tr style=\"text-align: right;\">\n",
       "      <th></th>\n",
       "      <th>Loan_ID</th>\n",
       "      <th>Current_Loan_Amount</th>\n",
       "      <th>Term</th>\n",
       "      <th>Credit_Score</th>\n",
       "      <th>Years_in_current_job</th>\n",
       "      <th>Home_Ownership</th>\n",
       "      <th>Annual_Income</th>\n",
       "      <th>Purpose</th>\n",
       "      <th>Monthly_Debt</th>\n",
       "      <th>Years_of_Credit_History</th>\n",
       "      <th>Months_since_last_delinquent</th>\n",
       "      <th>Number_of_Open_Accounts</th>\n",
       "      <th>Number_of_Credit_Problems</th>\n",
       "      <th>Current_Credit_Balance</th>\n",
       "      <th>Maximum_Open_Credit</th>\n",
       "      <th>Bankruptcies</th>\n",
       "      <th>Tax_Liens</th>\n",
       "      <th>Loan_Status</th>\n",
       "    </tr>\n",
       "  </thead>\n",
       "  <tbody>\n",
       "    <tr>\n",
       "      <th>0</th>\n",
       "      <td>0</td>\n",
       "      <td>17879</td>\n",
       "      <td>Short Term</td>\n",
       "      <td>739.0</td>\n",
       "      <td>6 years</td>\n",
       "      <td>Home Mortgage</td>\n",
       "      <td>95357.0</td>\n",
       "      <td>Debt Consolidation</td>\n",
       "      <td>1509.82</td>\n",
       "      <td>34.4</td>\n",
       "      <td>5.0</td>\n",
       "      <td>26</td>\n",
       "      <td>0</td>\n",
       "      <td>23986</td>\n",
       "      <td>40313</td>\n",
       "      <td>0.0</td>\n",
       "      <td>0.0</td>\n",
       "      <td>1</td>\n",
       "    </tr>\n",
       "    <tr>\n",
       "      <th>1</th>\n",
       "      <td>1</td>\n",
       "      <td>99999999</td>\n",
       "      <td>Long Term</td>\n",
       "      <td>619.0</td>\n",
       "      <td>6 years</td>\n",
       "      <td>Rent</td>\n",
       "      <td>54406.0</td>\n",
       "      <td>Debt Consolidation</td>\n",
       "      <td>1065.45</td>\n",
       "      <td>12.7</td>\n",
       "      <td>NaN</td>\n",
       "      <td>8</td>\n",
       "      <td>0</td>\n",
       "      <td>22938</td>\n",
       "      <td>31250</td>\n",
       "      <td>0.0</td>\n",
       "      <td>0.0</td>\n",
       "      <td>1</td>\n",
       "    </tr>\n",
       "    <tr>\n",
       "      <th>2</th>\n",
       "      <td>3</td>\n",
       "      <td>99999999</td>\n",
       "      <td>Short Term</td>\n",
       "      <td>738.0</td>\n",
       "      <td>less than  1 year</td>\n",
       "      <td>Rent</td>\n",
       "      <td>40480.0</td>\n",
       "      <td>Medical Bills</td>\n",
       "      <td>573.47</td>\n",
       "      <td>32.7</td>\n",
       "      <td>60.0</td>\n",
       "      <td>9</td>\n",
       "      <td>1</td>\n",
       "      <td>3963</td>\n",
       "      <td>5669</td>\n",
       "      <td>1.0</td>\n",
       "      <td>0.0</td>\n",
       "      <td>1</td>\n",
       "    </tr>\n",
       "    <tr>\n",
       "      <th>3</th>\n",
       "      <td>4</td>\n",
       "      <td>11200</td>\n",
       "      <td>Short Term</td>\n",
       "      <td>738.0</td>\n",
       "      <td>4 years</td>\n",
       "      <td>Rent</td>\n",
       "      <td>53965.0</td>\n",
       "      <td>Debt Consolidation</td>\n",
       "      <td>1358.11</td>\n",
       "      <td>15.8</td>\n",
       "      <td>NaN</td>\n",
       "      <td>8</td>\n",
       "      <td>1</td>\n",
       "      <td>11782</td>\n",
       "      <td>25951</td>\n",
       "      <td>1.0</td>\n",
       "      <td>0.0</td>\n",
       "      <td>1</td>\n",
       "    </tr>\n",
       "    <tr>\n",
       "      <th>4</th>\n",
       "      <td>5</td>\n",
       "      <td>3608</td>\n",
       "      <td>Short Term</td>\n",
       "      <td>731.0</td>\n",
       "      <td>10+ years</td>\n",
       "      <td>Home Mortgage</td>\n",
       "      <td>47709.0</td>\n",
       "      <td>Home Improvements</td>\n",
       "      <td>339.93</td>\n",
       "      <td>16.1</td>\n",
       "      <td>47.0</td>\n",
       "      <td>6</td>\n",
       "      <td>0</td>\n",
       "      <td>22909</td>\n",
       "      <td>25568</td>\n",
       "      <td>0.0</td>\n",
       "      <td>0.0</td>\n",
       "      <td>1</td>\n",
       "    </tr>\n",
       "  </tbody>\n",
       "</table>\n",
       "</div>"
      ],
      "text/plain": [
       "   Loan_ID  Current_Loan_Amount        Term  Credit_Score  \\\n",
       "0        0                17879  Short Term         739.0   \n",
       "1        1             99999999   Long Term         619.0   \n",
       "2        3             99999999  Short Term         738.0   \n",
       "3        4                11200  Short Term         738.0   \n",
       "4        5                 3608  Short Term         731.0   \n",
       "\n",
       "  Years_in_current_job Home_Ownership  Annual_Income             Purpose  \\\n",
       "0              6 years  Home Mortgage        95357.0  Debt Consolidation   \n",
       "1              6 years           Rent        54406.0  Debt Consolidation   \n",
       "2    less than  1 year           Rent        40480.0       Medical Bills   \n",
       "3              4 years           Rent        53965.0  Debt Consolidation   \n",
       "4            10+ years  Home Mortgage        47709.0   Home Improvements   \n",
       "\n",
       "   Monthly_Debt  Years_of_Credit_History  Months_since_last_delinquent  \\\n",
       "0       1509.82                     34.4                           5.0   \n",
       "1       1065.45                     12.7                           NaN   \n",
       "2        573.47                     32.7                          60.0   \n",
       "3       1358.11                     15.8                           NaN   \n",
       "4        339.93                     16.1                          47.0   \n",
       "\n",
       "   Number_of_Open_Accounts  Number_of_Credit_Problems  Current_Credit_Balance  \\\n",
       "0                       26                          0                   23986   \n",
       "1                        8                          0                   22938   \n",
       "2                        9                          1                    3963   \n",
       "3                        8                          1                   11782   \n",
       "4                        6                          0                   22909   \n",
       "\n",
       "   Maximum_Open_Credit  Bankruptcies  Tax_Liens  Loan_Status  \n",
       "0                40313           0.0        0.0            1  \n",
       "1                31250           0.0        0.0            1  \n",
       "2                 5669           1.0        0.0            1  \n",
       "3                25951           1.0        0.0            1  \n",
       "4                25568           0.0        0.0            1  "
      ]
     },
     "execution_count": 2,
     "metadata": {},
     "output_type": "execute_result"
    }
   ],
   "source": [
    "df = pd.read_csv('data_preprocessed')\n",
    "df.drop('Unnamed: 0' , axis = 1 , inplace = True)\n",
    "df.head()"
   ]
  },
  {
   "cell_type": "markdown",
   "metadata": {},
   "source": [
    "## --------------------------------------------------------------------------------------------------------------------------\n"
   ]
  },
  {
   "cell_type": "markdown",
   "metadata": {
    "scrolled": true
   },
   "source": [
    "# FEATURE ENGINEERING"
   ]
  },
  {
   "cell_type": "markdown",
   "metadata": {},
   "source": [
    "## Annual Income:"
   ]
  },
  {
   "cell_type": "code",
   "execution_count": 3,
   "metadata": {},
   "outputs": [],
   "source": [
    "## Creating a new feature with all NAN values replaced.....\n",
    "## Applying Mean Value Imputation Technique...\n",
    "\n",
    "df['Annual_Income_Changed'] = df['Annual_Income']\n",
    "df['Annual_Income_Changed'] = df['Annual_Income_Changed'].fillna(df['Annual_Income'].mean())"
   ]
  },
  {
   "cell_type": "code",
   "execution_count": 4,
   "metadata": {},
   "outputs": [
    {
     "data": {
      "text/plain": [
       "<matplotlib.legend.Legend at 0x22f5a61a108>"
      ]
     },
     "execution_count": 4,
     "metadata": {},
     "output_type": "execute_result"
    },
    {
     "data": {
      "image/png": "[encoded data removed]",
      "text/plain": [
       "<Figure size 1820x390 with 1 Axes>"
      ]
     },
     "metadata": {
      "needs_background": "light"
     },
     "output_type": "display_data"
    }
   ],
   "source": [
    "fig = plt.figure(dpi = 130 , figsize = (14,3))\n",
    "ax = fig.add_subplot(111)\n",
    "df['Annual_Income'].dropna().plot(kind = 'kde' , ax = ax , color = 'red')\n",
    "df['Annual_Income_Changed'].plot(kind = 'kde' , ax = ax , color = 'green')\n",
    "lines , labels = ax.get_legend_handles_labels()\n",
    "ax.legend(lines , labels, loc = 1)"
   ]
  },
  {
   "cell_type": "code",
   "execution_count": 5,
   "metadata": {},
   "outputs": [
    {
     "name": "stderr",
     "output_type": "stream",
     "text": [
      "C:\\Anaconda\\lib\\site-packages\\seaborn\\distributions.py:2551: FutureWarning: `distplot` is a deprecated function and will be removed in a future version. Please adapt your code to use either `displot` (a figure-level function with similar flexibility) or `histplot` (an axes-level function for histograms).\n",
      "  warnings.warn(msg, FutureWarning)\n"
     ]
    },
    {
     "data": {
      "text/plain": [
       "<AxesSubplot:xlabel='Annual_Income', ylabel='Density'>"
      ]
     },
     "execution_count": 5,
     "metadata": {},
     "output_type": "execute_result"
    },
    {
     "data": {
      "image/png": "[encoded data removed]",
      "text/plain": [
       "<Figure size 432x288 with 1 Axes>"
      ]
     },
     "metadata": {
      "needs_background": "light"
     },
     "output_type": "display_data"
    }
   ],
   "source": [
    "## Plotting for \"Annual Income\" records less than 2,00,000....\n",
    "sns.distplot(df[df['Annual_Income'] < 200000].Annual_Income.dropna())"
   ]
  },
  {
   "cell_type": "code",
   "execution_count": 6,
   "metadata": {},
   "outputs": [],
   "source": [
    "## Since there are two many Outliers above 200000, which are affecting the model making process hence we should remove them...\n",
    "df = df[df['Annual_Income'] < 200000]\n",
    "\n",
    "## Reseting the index.....\n",
    "df.reset_index(drop = True  , inplace = True)"
   ]
  },
  {
   "cell_type": "code",
   "execution_count": 7,
   "metadata": {},
   "outputs": [
    {
     "data": {
      "text/plain": [
       "Counter({1: 36661, 0: 11054})"
      ]
     },
     "execution_count": 7,
     "metadata": {},
     "output_type": "execute_result"
    }
   ],
   "source": [
    "Counter(df['Loan_Status'])"
   ]
  },
  {
   "cell_type": "markdown",
   "metadata": {},
   "source": [
    "## Current Loan Amount:\n",
    "- Here, In \"Current.Loan.Amount\" feature we have 7397 NAN entries. This NAN are represented by \"99999999\". We need to correct this problem now."
   ]
  },
  {
   "cell_type": "code",
   "execution_count": 8,
   "metadata": {},
   "outputs": [
    {
     "name": "stderr",
     "output_type": "stream",
     "text": [
      "C:\\Anaconda\\lib\\site-packages\\seaborn\\distributions.py:2551: FutureWarning: `distplot` is a deprecated function and will be removed in a future version. Please adapt your code to use either `displot` (a figure-level function with similar flexibility) or `histplot` (an axes-level function for histograms).\n",
      "  warnings.warn(msg, FutureWarning)\n"
     ]
    },
    {
     "data": {
      "text/plain": [
       "<AxesSubplot:xlabel='Current_Loan_Amount'>"
      ]
     },
     "execution_count": 8,
     "metadata": {},
     "output_type": "execute_result"
    },
    {
     "data": {
      "image/png": "[encoded data removed]",
      "text/plain": [
       "<Figure size 432x288 with 1 Axes>"
      ]
     },
     "metadata": {
      "needs_background": "light"
     },
     "output_type": "display_data"
    }
   ],
   "source": [
    "## Creating histogram for \"Current_Loan_Amount\".\n",
    "sns.distplot(df[df['Current_Loan_Amount'] != 99999999].Current_Loan_Amount , kde = False , bins = 20 , color = 'brown')"
   ]
  },
  {
   "cell_type": "markdown",
   "metadata": {},
   "source": [
    "#### Using Random Sample Imputation Technique"
   ]
  },
  {
   "cell_type": "code",
   "execution_count": 9,
   "metadata": {},
   "outputs": [],
   "source": [
    "## Creating a Sample Series of all the entries other than '99999999'....\n",
    "tempo = df[df['Current_Loan_Amount'] != 99999999]\n",
    "random_entries = tempo[tempo['Loan_Status'] == 1].Current_Loan_Amount.sample(df['Current_Loan_Amount'].value_counts().max()\n",
    "                                                                             , random_state=9)\n",
    "random_entries.index = df[df['Current_Loan_Amount'] == 99999999].index\n",
    "\n",
    "## Creating an array of bool dtype, 99999999 = True | Elements other than 99999999 = False\n",
    "m = np.where(df['Current_Loan_Amount'].values == 99999999 , True , False )\n",
    "\n",
    "## Changing all '99999999' with random values selected from the feature column.\n",
    "df['Current_Loan_Amount_Changed'] = df['Current_Loan_Amount']\n",
    "df.loc[m , 'Current_Loan_Amount_Changed'] = random_entries"
   ]
  },
  {
   "cell_type": "code",
   "execution_count": 10,
   "metadata": {},
   "outputs": [
    {
     "data": {
      "text/plain": [
       "<matplotlib.legend.Legend at 0x22f5d1b6d88>"
      ]
     },
     "execution_count": 10,
     "metadata": {},
     "output_type": "execute_result"
    },
    {
     "data": {
      "image/png": "[encoded data removed]",
      "text/plain": [
       "<Figure size 1820x390 with 1 Axes>"
      ]
     },
     "metadata": {
      "needs_background": "light"
     },
     "output_type": "display_data"
    }
   ],
   "source": [
    "fig = plt.figure(dpi = 130 , figsize = (14,3))\n",
    "ax = fig.add_subplot(111)\n",
    "df[df['Current_Loan_Amount'] != 99999999].Current_Loan_Amount.plot(kind = 'kde' , ax = ax , color = 'red')\n",
    "df['Current_Loan_Amount_Changed'].plot(kind = 'kde' , ax = ax , color = 'yellow')\n",
    "lines , labels = ax.get_legend_handles_labels()\n",
    "ax.legend(lines , labels, loc = 1)"
   ]
  },
  {
   "cell_type": "markdown",
   "metadata": {},
   "source": [
    "- Now all NAN are replaced with Random Entries from the feature column. Also we got the similar variance distribution too."
   ]
  },
  {
   "cell_type": "markdown",
   "metadata": {},
   "source": [
    "## Credit Score:"
   ]
  },
  {
   "cell_type": "code",
   "execution_count": 11,
   "metadata": {},
   "outputs": [
    {
     "data": {
      "text/plain": [
       "<matplotlib.legend.Legend at 0x22f5d20b448>"
      ]
     },
     "execution_count": 11,
     "metadata": {},
     "output_type": "execute_result"
    },
    {
     "data": {
      "image/png": "[encoded data removed]",
      "text/plain": [
       "<Figure size 1820x390 with 1 Axes>"
      ]
     },
     "metadata": {
      "needs_background": "light"
     },
     "output_type": "display_data"
    }
   ],
   "source": [
    "## Now we will apply RANDOM SAMPLE IMPUTATION to rectify NAN...\n",
    "temp1 = df['Credit_Score'].dropna().sample(df['Credit_Score'].isnull().sum())\n",
    "temp1.index = df[df['Credit_Score'].isnull()].index\n",
    "\n",
    "## 'Credit_Score_Changed' is the feature with NAN replaced...\n",
    "df['Credit_Score_Changed'] = df['Credit_Score']\n",
    "df.loc[df['Credit_Score'].isnull() , 'Credit_Score_Changed'] = temp1 \n",
    "\n",
    "\n",
    "## Checking the Variance Distribution of newly created feature - 'Credit_Score_Changed' and the old feature - 'Credit_Score' \n",
    "fig = plt.figure(dpi = 130 , figsize = (14,3))\n",
    "ax = fig.add_subplot(111)\n",
    "df['Credit_Score'].plot(kind = 'kde' , ax = ax , color = 'red')\n",
    "df['Credit_Score_Changed'].plot(kind = 'kde' , ax = ax , color = 'green')\n",
    "lines , labels = ax.get_legend_handles_labels()\n",
    "ax.legend(lines , labels, loc = 1)"
   ]
  },
  {
   "cell_type": "code",
   "execution_count": 12,
   "metadata": {},
   "outputs": [
    {
     "name": "stderr",
     "output_type": "stream",
     "text": [
      "C:\\Anaconda\\lib\\site-packages\\seaborn\\distributions.py:2551: FutureWarning: `distplot` is a deprecated function and will be removed in a future version. Please adapt your code to use either `displot` (a figure-level function with similar flexibility) or `histplot` (an axes-level function for histograms).\n",
      "  warnings.warn(msg, FutureWarning)\n"
     ]
    },
    {
     "data": {
      "text/plain": [
       "<AxesSubplot:xlabel='Credit_Score_Changed', ylabel='Density'>"
      ]
     },
     "execution_count": 12,
     "metadata": {},
     "output_type": "execute_result"
    },
    {
     "data": {
      "image/png": "[encoded data removed]",
      "text/plain": [
       "<Figure size 432x288 with 1 Axes>"
      ]
     },
     "metadata": {
      "needs_background": "light"
     },
     "output_type": "display_data"
    }
   ],
   "source": [
    "## Plotting for \"Credit Score\" records with values greater than 650....\n",
    "sns.distplot(df[df['Credit_Score_Changed'] > 650].Credit_Score_Changed.dropna())"
   ]
  },
  {
   "cell_type": "code",
   "execution_count": 13,
   "metadata": {},
   "outputs": [],
   "source": [
    "## Since there are two many Outliers above 650, which are affecting the model making process hence we should remove them...\n",
    "df = df[df['Credit_Score_Changed'] > 650]\n",
    "\n",
    "## Reseting the index.....\n",
    "df.reset_index(drop = True  , inplace = True)"
   ]
  },
  {
   "cell_type": "markdown",
   "metadata": {},
   "source": [
    "## Purpose:\n"
   ]
  },
  {
   "cell_type": "markdown",
   "metadata": {},
   "source": [
    "    - Combining some categories like \"Business Loan\" , \"Buy House\" , \"Medical Bills\", \"major_purchase\" and \"small_business\"  because these categories have some correlation with respect to the fact that the Loans are taken for High Capital Investment.\n",
    "    - There are some Categories which can also be combined togther like : \"Other\" , \"Take a Trip\" , \"moving\" ,  \"Educational Expenses\" , \"vacation\" , \"wedding\" , \"renewable_energy\". All these category are very arbitrary and don't have any serious trend, so we can have one sepearte category for this.\n",
    "\n",
    "#### **Now we have 4 categories:**\n",
    "\n",
    "- Category 1: Debt Consolidation\n",
    "- Category 2: High Capital = \"Business Loan\" + \"Buy House\" + \"Medical Bills\" + \"major_purchase\" + \"small_business\" \n",
    "- Category 3: Arbitrary Purpose = \"Other\" + \"Take a Trip\" + \"moving\" + \"Educational Expenses\" + \"vacation\" + \"wedding\" + \"renewable_energy\" + 'Buy a Car'\n",
    "- Category 4: Home Improvements"
   ]
  },
  {
   "cell_type": "code",
   "execution_count": 14,
   "metadata": {},
   "outputs": [
    {
     "data": {
      "text/html": [
       "<div>\n",
       "<style scoped>\n",
       "    .dataframe tbody tr th:only-of-type {\n",
       "        vertical-align: middle;\n",
       "    }\n",
       "\n",
       "    .dataframe tbody tr th {\n",
       "        vertical-align: top;\n",
       "    }\n",
       "\n",
       "    .dataframe thead th {\n",
       "        text-align: right;\n",
       "    }\n",
       "</style>\n",
       "<table border=\"1\" class=\"dataframe\">\n",
       "  <thead>\n",
       "    <tr style=\"text-align: right;\">\n",
       "      <th></th>\n",
       "      <th>Count</th>\n",
       "      <th>Percentage of Loan Approved</th>\n",
       "    </tr>\n",
       "  </thead>\n",
       "  <tbody>\n",
       "    <tr>\n",
       "      <th>Debt Consolidation</th>\n",
       "      <td>36465</td>\n",
       "      <td>0.771562</td>\n",
       "    </tr>\n",
       "    <tr>\n",
       "      <th>Arbitrary Purpose</th>\n",
       "      <td>5343</td>\n",
       "      <td>0.789070</td>\n",
       "    </tr>\n",
       "    <tr>\n",
       "      <th>Home Improvements</th>\n",
       "      <td>2599</td>\n",
       "      <td>0.796845</td>\n",
       "    </tr>\n",
       "    <tr>\n",
       "      <th>High Capital</th>\n",
       "      <td>1720</td>\n",
       "      <td>0.736628</td>\n",
       "    </tr>\n",
       "  </tbody>\n",
       "</table>\n",
       "</div>"
      ],
      "text/plain": [
       "                    Count  Percentage of Loan Approved\n",
       "Debt Consolidation  36465                     0.771562\n",
       "Arbitrary Purpose    5343                     0.789070\n",
       "Home Improvements    2599                     0.796845\n",
       "High Capital         1720                     0.736628"
      ]
     },
     "execution_count": 14,
     "metadata": {},
     "output_type": "execute_result"
    }
   ],
   "source": [
    "## Creating a sepearte Feature with above Changes....\n",
    "df['Purpose_Changed'] = df['Purpose']\n",
    "\n",
    "df['Purpose_Changed'].replace((\"Business Loan\" , \"Buy House\" , \"Medical Bills\" , \"major_purchase\" , \"small_business\")\n",
    "                              , 'High Capital' , inplace = True)\n",
    "\n",
    "df['Purpose_Changed'].replace((\"Other\" , \"Take a Trip\" , \"moving\" , \"Educational Expenses\" , \"vacation\" , \"wedding\" , \n",
    "                               \"renewable_energy\" , 'Buy a Car') , 'Arbitrary Purpose' , inplace = True)\n",
    "\n",
    "\n",
    "temp = pd.DataFrame({'Count' : df['Purpose_Changed'].value_counts() , \n",
    "                     'Percentage of Loan Approved' : df.groupby(['Purpose_Changed']).Loan_Status.mean()}\n",
    "                    , index = df['Purpose_Changed'].value_counts().index)\n",
    "temp"
   ]
  },
  {
   "cell_type": "code",
   "execution_count": 15,
   "metadata": {},
   "outputs": [],
   "source": [
    "## We can use Probability Imputation technique.....\n",
    "\n",
    "cate_count = dict(df['Purpose_Changed'].value_counts()/df.shape[0])\n",
    "cate = list(cate_count.keys())\n",
    "values = list(cate_count.values())\n",
    "\n",
    "for i in range(len(cate_count.keys())):\n",
    "    df['Purpose_Changed'].replace(cate[i]  , values[i] , inplace = True)"
   ]
  },
  {
   "cell_type": "markdown",
   "metadata": {},
   "source": [
    "## Home Ownership :"
   ]
  },
  {
   "cell_type": "code",
   "execution_count": 16,
   "metadata": {},
   "outputs": [],
   "source": [
    "## Creating dummy variables to represent \"Home_Ownership\" Categories....\n",
    "Home_Ownership_dummy = pd.get_dummies(df['Home_Ownership'] , drop_first = True , prefix='Home_Ownership', prefix_sep='/')\n",
    "df = pd.concat([df,Home_Ownership_dummy] , axis = 1)"
   ]
  },
  {
   "cell_type": "markdown",
   "metadata": {},
   "source": [
    "## Term:"
   ]
  },
  {
   "cell_type": "code",
   "execution_count": 17,
   "metadata": {},
   "outputs": [],
   "source": [
    "## Creating dummy variables to represent \"Term\" Categories....\n",
    "Term_dummy = pd.get_dummies(df['Term'] , drop_first = True , prefix='Term', prefix_sep='->')\n",
    "df = pd.concat([df,Term_dummy] , axis = 1)"
   ]
  },
  {
   "cell_type": "markdown",
   "metadata": {},
   "source": [
    "## Years in Current Job :"
   ]
  },
  {
   "cell_type": "code",
   "execution_count": 18,
   "metadata": {},
   "outputs": [],
   "source": [
    "## Selecting top 4 most occuring elements in the feature....\n",
    "sample_temp = list(df['Years_in_current_job'].value_counts().head(4).index)\n",
    "\n",
    "## Creating the sample for imputation in NAN places....\n",
    "sample = random.choices(sample_temp, weights = [2, 1, 1, 1], k = df['Years_in_current_job'].isnull().sum())\n",
    "## Converting List to Series....\n",
    "sample = pd.Series(sample)\n",
    "\n",
    "## Matching index of all NAN position with the \"sample\" Series\n",
    "sample.index = df[df['Years_in_current_job'].isnull()].index\n",
    "\n",
    "## Imputing \"sample\" data in the main feature....\n",
    "df.loc[df['Years_in_current_job'].isnull() , 'Years_in_current_job'] = sample"
   ]
  },
  {
   "cell_type": "code",
   "execution_count": 19,
   "metadata": {
    "scrolled": true
   },
   "outputs": [],
   "source": [
    "## pairing different entries.....\n",
    "cate_1 = ['less than  1 year' , '1 year' , '2 years', '3 years']\n",
    "cate_2 = ['4 years', '5 years' , '6 years' , '7 years']\n",
    "cate_3 = ['8 years', '9 years' , '10+ years']\n",
    "\n",
    "\n",
    "for i in cate_1:\n",
    "    df['Years_in_current_job'].replace(i , 'cate_1' , inplace = True)\n",
    "for i in cate_2:\n",
    "    df['Years_in_current_job'].replace(i , 'cate_2' , inplace = True)\n",
    "for i in cate_3:\n",
    "    df['Years_in_current_job'].replace(i , 'cate_3' , inplace = True)"
   ]
  },
  {
   "cell_type": "code",
   "execution_count": 20,
   "metadata": {},
   "outputs": [
    {
     "data": {
      "text/plain": [
       "cate_3    19099\n",
       "cate_1    15904\n",
       "cate_2    11124\n",
       "Name: Years_in_current_job, dtype: int64"
      ]
     },
     "execution_count": 20,
     "metadata": {},
     "output_type": "execute_result"
    }
   ],
   "source": [
    "df[\"Years_in_current_job\"].value_counts()"
   ]
  },
  {
   "cell_type": "code",
   "execution_count": 21,
   "metadata": {},
   "outputs": [],
   "source": [
    "## Creating dummy variables to represent \"Years_in_current_job\" Categories....\n",
    "Years_in_current_job_dummy = pd.get_dummies(df['Years_in_current_job'] , drop_first = True , \n",
    "                                            prefix='Years_in_current_job', prefix_sep='->')\n",
    "df = pd.concat([df,Years_in_current_job_dummy] , axis = 1)"
   ]
  },
  {
   "cell_type": "markdown",
   "metadata": {},
   "source": [
    "## Months Since Last Delinquent :"
   ]
  },
  {
   "cell_type": "code",
   "execution_count": 22,
   "metadata": {},
   "outputs": [
    {
     "name": "stdout",
     "output_type": "stream",
     "text": [
      "Coef. of Correlation between 'Months_since_last_delinquent' and 'Loan_Status' is : 2.014 %\n"
     ]
    }
   ],
   "source": [
    "## Finding Pearson's Correlation Coef....\n",
    "print(\"Coef. of Correlation between 'Months_since_last_delinquent' and 'Loan_Status' is :\" , \n",
    "      round(df['Loan_Status'].corr(df['Months_since_last_delinquent'])*100 , 3) , \"%\")"
   ]
  },
  {
   "cell_type": "code",
   "execution_count": 23,
   "metadata": {},
   "outputs": [],
   "source": [
    "## Due to very low Corr Coef. and very Large number of NAN values in 'Months_since_last_delinquent'.....\n",
    "## We should better drop the feature....\n",
    "df = df.drop(['Months_since_last_delinquent'] , axis = 1)"
   ]
  },
  {
   "cell_type": "markdown",
   "metadata": {},
   "source": [
    "## Bankruptcies :"
   ]
  },
  {
   "cell_type": "code",
   "execution_count": 24,
   "metadata": {
    "scrolled": true
   },
   "outputs": [],
   "source": [
    "## since, \"0\" is the most highly occuring value in the feature \"Bankruptcies\"....\n",
    "## we can better fill all NAN with \"0\" value....\n",
    "df['Bankruptcies'].fillna(\"0\" , inplace = True)"
   ]
  },
  {
   "cell_type": "markdown",
   "metadata": {},
   "source": [
    "## Tax Liens :"
   ]
  },
  {
   "cell_type": "code",
   "execution_count": 25,
   "metadata": {},
   "outputs": [],
   "source": [
    "## since, \"0\" is the most highly occuring value in the feature \"Tax_Liens\"....\n",
    "## we can better fill all NAN with \"0\" value....\n",
    "df['Tax_Liens'].fillna(\"0\" , inplace = True)"
   ]
  },
  {
   "cell_type": "markdown",
   "metadata": {},
   "source": [
    "## --------------------------------------------------------------------------------------------------------------------------\n"
   ]
  },
  {
   "cell_type": "markdown",
   "metadata": {},
   "source": [
    "### Dropping all unwanted columns :"
   ]
  },
  {
   "cell_type": "code",
   "execution_count": 26,
   "metadata": {},
   "outputs": [],
   "source": [
    "df.drop(['Loan_ID', 'Current_Loan_Amount', 'Term', 'Credit_Score', 'Years_in_current_job', 'Home_Ownership', \n",
    " 'Annual_Income', 'Purpose' , 'Purpose_Changed'] , axis = 1 , inplace = True)\n",
    "\n",
    "## NOW are dat frame is ready and now we can prepare the ML Model....."
   ]
  },
  {
   "cell_type": "markdown",
   "metadata": {},
   "source": [
    "## --------------------------------------------------------------------------------------------------------------------------\n"
   ]
  },
  {
   "cell_type": "markdown",
   "metadata": {},
   "source": [
    "### Feature Selection:\n"
   ]
  },
  {
   "cell_type": "code",
   "execution_count": 27,
   "metadata": {},
   "outputs": [
    {
     "data": {
      "text/html": [
       "<div>\n",
       "<style scoped>\n",
       "    .dataframe tbody tr th:only-of-type {\n",
       "        vertical-align: middle;\n",
       "    }\n",
       "\n",
       "    .dataframe tbody tr th {\n",
       "        vertical-align: top;\n",
       "    }\n",
       "\n",
       "    .dataframe thead th {\n",
       "        text-align: right;\n",
       "    }\n",
       "</style>\n",
       "<table border=\"1\" class=\"dataframe\">\n",
       "  <thead>\n",
       "    <tr style=\"text-align: right;\">\n",
       "      <th></th>\n",
       "      <th>P Values</th>\n",
       "    </tr>\n",
       "  </thead>\n",
       "  <tbody>\n",
       "    <tr>\n",
       "      <th>Home_Ownership/Own Home</th>\n",
       "      <td>0.862</td>\n",
       "    </tr>\n",
       "    <tr>\n",
       "      <th>Years_in_current_job-&gt;cate_2</th>\n",
       "      <td>0.810</td>\n",
       "    </tr>\n",
       "    <tr>\n",
       "      <th>Current_Credit_Balance</th>\n",
       "      <td>0.566</td>\n",
       "    </tr>\n",
       "    <tr>\n",
       "      <th>Maximum_Open_Credit</th>\n",
       "      <td>0.283</td>\n",
       "    </tr>\n",
       "    <tr>\n",
       "      <th>Number_of_Credit_Problems</th>\n",
       "      <td>0.198</td>\n",
       "    </tr>\n",
       "    <tr>\n",
       "      <th>Tax_Liens</th>\n",
       "      <td>0.160</td>\n",
       "    </tr>\n",
       "    <tr>\n",
       "      <th>Years_in_current_job-&gt;cate_3</th>\n",
       "      <td>0.143</td>\n",
       "    </tr>\n",
       "    <tr>\n",
       "      <th>Monthly_Debt</th>\n",
       "      <td>0.003</td>\n",
       "    </tr>\n",
       "    <tr>\n",
       "      <th>Bankruptcies</th>\n",
       "      <td>0.001</td>\n",
       "    </tr>\n",
       "    <tr>\n",
       "      <th>Years_of_Credit_History</th>\n",
       "      <td>0.000</td>\n",
       "    </tr>\n",
       "  </tbody>\n",
       "</table>\n",
       "</div>"
      ],
      "text/plain": [
       "                              P Values\n",
       "Home_Ownership/Own Home          0.862\n",
       "Years_in_current_job->cate_2     0.810\n",
       "Current_Credit_Balance           0.566\n",
       "Maximum_Open_Credit              0.283\n",
       "Number_of_Credit_Problems        0.198\n",
       "Tax_Liens                        0.160\n",
       "Years_in_current_job->cate_3     0.143\n",
       "Monthly_Debt                     0.003\n",
       "Bankruptcies                     0.001\n",
       "Years_of_Credit_History          0.000"
      ]
     },
     "execution_count": 27,
     "metadata": {},
     "output_type": "execute_result"
    }
   ],
   "source": [
    "from sklearn.feature_selection import f_regression\n",
    "\n",
    "## Calculating P Values for each Features....\n",
    "f_val , p_val = f_regression(df.drop('Loan_Status' , axis = 1) , df['Loan_Status'])\n",
    "\n",
    "p_val_table = pd.DataFrame(data = p_val.round(3) , columns = ['P Values'] , \n",
    "                           index = df.drop('Loan_Status' , axis = 1).columns.values)     \n",
    "\n",
    "p_val_table.sort_values(by = 'P Values' , ascending = False).head(10)"
   ]
  },
  {
   "cell_type": "code",
   "execution_count": 28,
   "metadata": {},
   "outputs": [
    {
     "name": "stdout",
     "output_type": "stream",
     "text": [
      "['Number_of_Credit_Problems', 'Current_Credit_Balance', 'Maximum_Open_Credit', 'Tax_Liens', 'Home_Ownership/Own Home', 'Years_in_current_job->cate_2', 'Years_in_current_job->cate_3']\n"
     ]
    }
   ],
   "source": [
    "## Creating the list for Features with P values less more than 0.05....\n",
    "## These features can be drop here....\n",
    "drop = []\n",
    "\n",
    "for i in range(len(p_val)):\n",
    "    ## Filtering features with respect to P Values....\n",
    "    if p_val[i] > 0.05:\n",
    "        drop.append(df.drop('Loan_Status' , axis = 1).columns.values[i])\n",
    "    else:\n",
    "        pass\n",
    "\n",
    "print(drop)       "
   ]
  },
  {
   "cell_type": "code",
   "execution_count": 29,
   "metadata": {},
   "outputs": [],
   "source": [
    "## Droppinf all selected features in \"drop\"....\n",
    "df.drop(drop , axis = 1 , inplace = True)"
   ]
  },
  {
   "cell_type": "markdown",
   "metadata": {},
   "source": [
    "## --------------------------------------------------------------------------------------------------------------------------\n"
   ]
  },
  {
   "cell_type": "markdown",
   "metadata": {},
   "source": [
    "## Feature Scaling:"
   ]
  },
  {
   "cell_type": "code",
   "execution_count": 30,
   "metadata": {},
   "outputs": [],
   "source": [
    "from sklearn.preprocessing import StandardScaler\n",
    "\n",
    "scaler = StandardScaler()\n",
    "scaler.fit(df.drop('Loan_Status' , axis = 1))\n",
    "\n",
    "input_scaled = scaler.transform(df.drop('Loan_Status' , axis = 1))"
   ]
  },
  {
   "cell_type": "code",
   "execution_count": 31,
   "metadata": {},
   "outputs": [],
   "source": [
    "## Creating dataframe of all scaled feartures....\n",
    "input_df = pd.DataFrame(data = input_scaled , columns = df.drop('Loan_Status' , axis = 1).columns.values)"
   ]
  },
  {
   "cell_type": "markdown",
   "metadata": {},
   "source": [
    "## --------------------------------------------------------------------------------------------------------------------------\n"
   ]
  },
  {
   "cell_type": "markdown",
   "metadata": {},
   "source": [
    "#### Apply Model Selection:"
   ]
  },
  {
   "cell_type": "code",
   "execution_count": 222,
   "metadata": {},
   "outputs": [],
   "source": [
    "from sklearn.model_selection import train_test_split\n",
    "## Splitting the dataset in two halves:\n",
    "## 1. Train Set\n",
    "## 2. Test Set\n",
    "x_train , x_test , y_train , y_test  = train_test_split(input_df , df['Loan_Status'] , random_state = 55 , test_size = 0.25)\n"
   ]
  },
  {
   "cell_type": "code",
   "execution_count": 223,
   "metadata": {},
   "outputs": [
    {
     "data": {
      "text/plain": [
       "(Counter({0: 7770, 1: 26825}), Counter({1: 8864, 0: 2668}))"
      ]
     },
     "execution_count": 223,
     "metadata": {},
     "output_type": "execute_result"
    }
   ],
   "source": [
    "Counter(y_train) , Counter(y_test)"
   ]
  },
  {
   "cell_type": "markdown",
   "metadata": {},
   "source": [
    "## --------------------------------------------------------------------------------------------------------------------------\n"
   ]
  },
  {
   "cell_type": "markdown",
   "metadata": {},
   "source": [
    "## Model:"
   ]
  },
  {
   "cell_type": "markdown",
   "metadata": {},
   "source": [
    "#### Using Logistic Regression as Classifier:"
   ]
  },
  {
   "cell_type": "code",
   "execution_count": 225,
   "metadata": {},
   "outputs": [],
   "source": [
    "from sklearn.linear_model import LogisticRegression\n",
    "from sklearn import metrics"
   ]
  },
  {
   "cell_type": "code",
   "execution_count": 226,
   "metadata": {},
   "outputs": [
    {
     "data": {
      "text/plain": [
       "LogisticRegression()"
      ]
     },
     "execution_count": 226,
     "metadata": {},
     "output_type": "execute_result"
    }
   ],
   "source": [
    "## Using Logistic Regression as Classifier.....\n",
    "logreg = LogisticRegression()\n",
    "logreg.fit(x_train , y_train)"
   ]
  },
  {
   "cell_type": "code",
   "execution_count": 227,
   "metadata": {},
   "outputs": [
    {
     "name": "stdout",
     "output_type": "stream",
     "text": [
      "   0      1\n",
      "0  1   7769\n",
      "1  0  26825\n"
     ]
    }
   ],
   "source": [
    "y_train_pred = logreg.predict(x_train)\n",
    "\n",
    "## Creating confusion matrix...\n",
    "print(pd.DataFrame(metrics.confusion_matrix(y_train , y_train_pred)))"
   ]
  },
  {
   "cell_type": "code",
   "execution_count": 228,
   "metadata": {},
   "outputs": [
    {
     "name": "stdout",
     "output_type": "stream",
     "text": [
      "Accuracy of the model : 77.54299754299754 %\n",
      "Recall Score of the model : 100.0 %\n",
      "Precision Score of the model : 77.54234838411284 %\n",
      "\n",
      "\n",
      "              precision    recall  f1-score   support\n",
      "\n",
      "           0       1.00      0.00      0.00      7770\n",
      "           1       0.78      1.00      0.87     26825\n",
      "\n",
      "    accuracy                           0.78     34595\n",
      "   macro avg       0.89      0.50      0.44     34595\n",
      "weighted avg       0.83      0.78      0.68     34595\n",
      "\n"
     ]
    }
   ],
   "source": [
    "print(\"Accuracy of the model :\" , metrics.accuracy_score(y_train , y_train_pred)*100 , \"%\")\n",
    "print(\"Recall Score of the model :\" , metrics.recall_score(y_train , y_train_pred)*100 , \"%\")\n",
    "print(\"Precision Score of the model :\" , metrics.precision_score(y_train , y_train_pred)*100 , \"%\\n\\n\")\n",
    "print(metrics.classification_report(y_train , y_train_pred))"
   ]
  },
  {
   "cell_type": "code",
   "execution_count": 229,
   "metadata": {},
   "outputs": [
    {
     "name": "stdout",
     "output_type": "stream",
     "text": [
      "   0     1\n",
      "0  1  2667\n",
      "1  0  8864\n"
     ]
    }
   ],
   "source": [
    "## Predicting for test set.....\n",
    "print(pd.DataFrame(metrics.confusion_matrix(y_test , logreg.predict(x_test))))"
   ]
  },
  {
   "cell_type": "code",
   "execution_count": 230,
   "metadata": {},
   "outputs": [
    {
     "name": "stdout",
     "output_type": "stream",
     "text": [
      "TEST Accuracy of the model : 76.87304890738814 %\n",
      "TEST Recall Score of the model : 100.0 %\n",
      "TEST Precision Score of the model : 76.87104327465094 %\n",
      "\n",
      "\n",
      "              precision    recall  f1-score   support\n",
      "\n",
      "           0       1.00      0.00      0.00      2668\n",
      "           1       0.77      1.00      0.87      8864\n",
      "\n",
      "    accuracy                           0.77     11532\n",
      "   macro avg       0.88      0.50      0.43     11532\n",
      "weighted avg       0.82      0.77      0.67     11532\n",
      "\n"
     ]
    }
   ],
   "source": [
    "print(\"TEST Accuracy of the model :\" , metrics.accuracy_score(y_test , logreg.predict(x_test))*100 , \"%\")\n",
    "print(\"TEST Recall Score of the model :\" , metrics.recall_score(y_test , logreg.predict(x_test))*100 , \"%\")\n",
    "print(\"TEST Precision Score of the model :\" , metrics.precision_score(y_test , logreg.predict(x_test))*100 , \"%\\n\\n\")\n",
    "print(metrics.classification_report(y_test , logreg.predict(x_test)))"
   ]
  },
  {
   "cell_type": "markdown",
   "metadata": {},
   "source": [
    "##### We can see how badly Logistic Regression Failed in predicting the test dataset.....\n",
    "- We lost Precision Score and Recall Score for predicting \"0\" - Loan Status."
   ]
  },
  {
   "cell_type": "markdown",
   "metadata": {},
   "source": [
    "#### Using Decision Tree as Classifier :"
   ]
  },
  {
   "cell_type": "code",
   "execution_count": 231,
   "metadata": {},
   "outputs": [
    {
     "name": "stdout",
     "output_type": "stream",
     "text": [
      "Training Confusion Matrix:\n",
      "       0      1\n",
      "0  7770      0\n",
      "1     0  26825\n",
      "\n",
      "Training Accuracy Score: 100.0 %\n"
     ]
    }
   ],
   "source": [
    "## Using Decision Tree as Classifier.....\n",
    "from sklearn.tree import DecisionTreeClassifier\n",
    "from sklearn import tree\n",
    "\n",
    "DTclf = DecisionTreeClassifier(criterion='gini', max_depth=None , random_state = 0)\n",
    "## Fitting with train dataset....\n",
    "DTclf.fit(x_train , y_train)\n",
    "\n",
    "## Predicting train data targets.....\n",
    "y_clf_pred = DTclf.predict(x_train)\n",
    "\n",
    "## Creating Confusion Matrix.....                \n",
    "print(\"Training Confusion Matrix:\\n\" , pd.DataFrame(metrics.confusion_matrix(y_train , y_clf_pred)))\n",
    "\n",
    "## Accuracy of train prediction....\n",
    "print(\"\\nTraining Accuracy Score:\" , metrics.accuracy_score(y_train , y_clf_pred)*100 , \"%\")"
   ]
  },
  {
   "cell_type": "code",
   "execution_count": 232,
   "metadata": {},
   "outputs": [
    {
     "data": {
      "text/plain": [
       "(37, 6863)"
      ]
     },
     "execution_count": 232,
     "metadata": {},
     "output_type": "execute_result"
    }
   ],
   "source": [
    "## Finding the DEPTH and No. of LEAF NODES of the Tree....\n",
    "DTclf.get_depth() , DTclf.get_n_leaves()  "
   ]
  },
  {
   "cell_type": "code",
   "execution_count": 54,
   "metadata": {
    "scrolled": true
   },
   "outputs": [],
   "source": [
    "## Finding the right depth of the tree......\n",
    "## This can be estimated by analyzing corresponding accuracy score change with train and test dataset....\n",
    "\n",
    "accuracy_train = []\n",
    "accuracy_test = []\n",
    "\n",
    "for i in range(1,100):\n",
    "    DTclf = DecisionTreeClassifier(criterion='gini', max_depth=i )\n",
    "    DTclf.fit(x_train , y_train)\n",
    "    accuracy_train.append(DTclf.score(x_train , y_train))\n",
    "    accuracy_test.append(metrics.accuracy_score(y_test , DTclf.predict(x_test)))"
   ]
  },
  {
   "cell_type": "code",
   "execution_count": 55,
   "metadata": {},
   "outputs": [
    {
     "data": {
      "text/plain": [
       "Text(0.5, 1.0, 'Max Depth VS Test Accuracy')"
      ]
     },
     "execution_count": 55,
     "metadata": {},
     "output_type": "execute_result"
    },
    {
     "data": {
      "image/png": "[encoded data removed]",
      "text/plain": [
       "<Figure size 720x630 with 2 Axes>"
      ]
     },
     "metadata": {
      "needs_background": "light"
     },
     "output_type": "display_data"
    }
   ],
   "source": [
    "plt.figure(dpi = 90 , figsize = (8,7))\n",
    "plt.subplot(2,1,1)\n",
    "plt.scatter(range(1,100) , accuracy_train)\n",
    "plt.ylabel(\"Model Train Accuracy\")\n",
    "plt.title(\"Max Depth VS Train Accuracy\" , fontsize = 10)\n",
    "plt.subplot(2,1,2)\n",
    "plt.scatter(range(1,100) , accuracy_test)\n",
    "plt.xlabel(\"Max Depth\")\n",
    "plt.ylabel(\"Model Test Accuracy\")\n",
    "plt.title(\"Max Depth VS Test Accuracy\" , fontsize = 10)"
   ]
  },
  {
   "cell_type": "code",
   "execution_count": 233,
   "metadata": {},
   "outputs": [
    {
     "name": "stdout",
     "output_type": "stream",
     "text": [
      "Train Confusion Matrix:\n",
      "     0      1\n",
      "0  33   7737\n",
      "1  29  26796\n",
      "\\Train Accuracy Score: 77.5516693163752 %\n"
     ]
    }
   ],
   "source": [
    "## With the help of above plot we can recreate the tree....\n",
    "## Creating the Decision Tree with MAX DEPTH of 5.....\n",
    "\n",
    "DTclf = DecisionTreeClassifier(criterion='gini', max_depth=5 , random_state = 100)\n",
    "## Fitting with train dataset....\n",
    "DTclf.fit(x_train , y_train)\n",
    "\n",
    "## Predicting train data targets.....\n",
    "y_clf_pred = DTclf.predict(x_train)\n",
    "\n",
    "## Creating Confusion Matrix.....                \n",
    "print(\"Train Confusion Matrix:\\n\" , pd.DataFrame(metrics.confusion_matrix(y_train , y_clf_pred)))\n",
    "\n",
    "## Accuracy of train prediction....\n",
    "print(\"\\Train Accuracy Score:\" , metrics.accuracy_score(y_train , y_clf_pred)*100 , \"%\")"
   ]
  },
  {
   "cell_type": "code",
   "execution_count": 234,
   "metadata": {
    "scrolled": true
   },
   "outputs": [
    {
     "data": {
      "text/plain": [
       "array([[   5, 2663],\n",
       "       [  21, 8843]], dtype=int64)"
      ]
     },
     "execution_count": 234,
     "metadata": {},
     "output_type": "execute_result"
    }
   ],
   "source": [
    "## Predicting test data set and creating Confusion Matrix for Test Data set.....\n",
    "metrics.confusion_matrix(y_test , DTclf.predict(x_test))"
   ]
  },
  {
   "cell_type": "code",
   "execution_count": 235,
   "metadata": {
    "scrolled": true
   },
   "outputs": [
    {
     "data": {
      "text/plain": [
       "0.7672563302115851"
      ]
     },
     "execution_count": 235,
     "metadata": {},
     "output_type": "execute_result"
    }
   ],
   "source": [
    "## Accuracy of Test prediction....\n",
    "metrics.accuracy_score(y_test , DTclf.predict(x_test))"
   ]
  },
  {
   "cell_type": "markdown",
   "metadata": {},
   "source": [
    "#### Using Random Forest as Classifier :"
   ]
  },
  {
   "cell_type": "code",
   "execution_count": 236,
   "metadata": {},
   "outputs": [
    {
     "name": "stdout",
     "output_type": "stream",
     "text": [
      "The Train accuracy is : 1.0\n",
      "\n",
      "The Confuion Matrix for Training Data is :\n",
      "       0      1\n",
      "0  7770      0\n",
      "1     0  26825\n"
     ]
    }
   ],
   "source": [
    "from sklearn.ensemble import RandomForestClassifier\n",
    "rf_model = RandomForestClassifier(n_jobs = -1 , random_state= 45)\n",
    "\n",
    "rf_model.fit(x_train , y_train)\n",
    "\n",
    "## Accuracy of train prediction....\n",
    "print(\"The Train accuracy is :\" , rf_model.score(x_train , y_train))\n",
    "\n",
    "## Creating Confusion Matrix.....                \n",
    "print(\"\\nThe Confuion Matrix for Training Data is :\\n\" , pd.DataFrame(metrics.confusion_matrix(y_train , \n",
    "                                                                                              rf_model.predict(x_train))))"
   ]
  },
  {
   "cell_type": "code",
   "execution_count": 237,
   "metadata": {},
   "outputs": [
    {
     "name": "stdout",
     "output_type": "stream",
     "text": [
      "The Test accuracy is : 0.7669961845300035\n",
      "\n",
      "The Confuion Matrix for Test Data is :\n",
      "      0     1\n",
      "0  162  2506\n",
      "1  181  8683\n"
     ]
    }
   ],
   "source": [
    "print(\"The Test accuracy is :\" , metrics.accuracy_score(y_test , rf_model.predict(x_test)))\n",
    "\n",
    "print(\"\\nThe Confuion Matrix for Test Data is :\\n\" , pd.DataFrame(metrics.confusion_matrix(y_test , \n",
    "                                                                                           rf_model.predict(x_test))))   "
   ]
  },
  {
   "cell_type": "markdown",
   "metadata": {},
   "source": [
    "#### Using Gradient Boosting as Classifier :"
   ]
  },
  {
   "cell_type": "code",
   "execution_count": 238,
   "metadata": {},
   "outputs": [
    {
     "name": "stdout",
     "output_type": "stream",
     "text": [
      "The Train accuracy_train is : 0.7761815291227055\n",
      "\n",
      "The Confuion Matrix for Training Data is :\n",
      "     0      1\n",
      "0  43   7727\n",
      "1  16  26809\n"
     ]
    }
   ],
   "source": [
    "from sklearn.ensemble import GradientBoostingClassifier\n",
    "rf_model = GradientBoostingClassifier(random_state= 45)\n",
    "\n",
    "rf_model.fit(x_train , y_train)\n",
    "\n",
    "## Accuracy_train of train prediction....\n",
    "print(\"The Train accuracy_train is :\" , rf_model.score(x_train , y_train))\n",
    "\n",
    "## Creating Confusion Matrix_train.....                \n",
    "print(\"\\nThe Confuion Matrix for Training Data is :\\n\" , pd.DataFrame(metrics.confusion_matrix(y_train , \n",
    "                                                                                              rf_model.predict(x_train))))"
   ]
  },
  {
   "cell_type": "code",
   "execution_count": 239,
   "metadata": {},
   "outputs": [
    {
     "name": "stdout",
     "output_type": "stream",
     "text": [
      "The Test accuracy_train is : 0.7688172043010753\n",
      "\n",
      "The Confuion Matrix for Test Data is :\n",
      "     0     1\n",
      "0  10  2658\n",
      "1   8  8856\n"
     ]
    }
   ],
   "source": [
    "print(\"The Test accuracy_train is :\" , metrics.accuracy_score(y_test , rf_model.predict(x_test)))\n",
    "\n",
    "print(\"\\nThe Confuion Matrix for Test Data is :\\n\" , pd.DataFrame(metrics.confusion_matrix(y_test , \n",
    "                                                                                           rf_model.predict(x_test))))   "
   ]
  },
  {
   "cell_type": "markdown",
   "metadata": {},
   "source": [
    "#### Using XGBoost as Classifier :"
   ]
  },
  {
   "cell_type": "code",
   "execution_count": 240,
   "metadata": {},
   "outputs": [
    {
     "name": "stderr",
     "output_type": "stream",
     "text": [
      "C:\\Anaconda\\lib\\site-packages\\xgboost\\sklearn.py:888: UserWarning: The use of label encoder in XGBClassifier is deprecated and will be removed in a future release. To remove this warning, do the following: 1) Pass option use_label_encoder=False when constructing XGBClassifier object; and 2) Encode your labels (y) as integers starting with 0, i.e. 0, 1, 2, ..., [num_class - 1].\n",
      "  warnings.warn(label_encoder_deprecation_msg, UserWarning)\n"
     ]
    },
    {
     "name": "stdout",
     "output_type": "stream",
     "text": [
      "[12:39:12] WARNING: C:/Users/Administrator/workspace/xgboost-win64_release_1.3.0/src/learner.cc:1061: Starting in XGBoost 1.3.0, the default evaluation metric used with the objective 'binary:logistic' was changed from 'error' to 'logloss'. Explicitly set eval_metric if you'd like to restore the old behavior.\n",
      "The Train accuracy_train is : 0.8146263910969793\n",
      "\n",
      "The Confuion Matrix_train for Training Data is :\n",
      "       0      1\n",
      "0  1458   6312\n",
      "1   101  26724\n"
     ]
    }
   ],
   "source": [
    "from xgboost import XGBClassifier\n",
    "rf_model = XGBClassifier(random_state= 45)\n",
    "\n",
    "rf_model.fit(x_train , y_train)\n",
    "\n",
    "## Accuracy_train of train prediction....\n",
    "print(\"The Train accuracy_train is :\" , rf_model.score(x_train , y_train))\n",
    "\n",
    "## Creating Confusion Matrix_train.....                \n",
    "print(\"\\nThe Confuion Matrix_train for Training Data is :\\n\" , pd.DataFrame(metrics.confusion_matrix(y_train , \n",
    "                                                                                              rf_model.predict(x_train))))"
   ]
  },
  {
   "cell_type": "code",
   "execution_count": 172,
   "metadata": {},
   "outputs": [
    {
     "name": "stdout",
     "output_type": "stream",
     "text": [
      "The Test accuracy_train is : 0.7675164758931668\n",
      "\n",
      "The Confuion Matrix_train for Test Data is :\n",
      "      0     1\n",
      "0  130  2467\n",
      "1  214  8721\n"
     ]
    }
   ],
   "source": [
    "print(\"The Test accuracy_train is :\" , metrics.accuracy_score(y_test , rf_model.predict(x_test)))\n",
    "\n",
    "print(\"\\nThe Confuion Matrix_train for Test Data is :\\n\" , pd.DataFrame(metrics.confusion_matrix(y_test , \n",
    "                                                                                           rf_model.predict(x_test))))   "
   ]
  },
  {
   "cell_type": "markdown",
   "metadata": {},
   "source": [
    "### ----------------------------------------------------------------------------------------------------------------------------------------"
   ]
  },
  {
   "cell_type": "markdown",
   "metadata": {},
   "source": [
    "## Balancing the Dataset :"
   ]
  },
  {
   "cell_type": "code",
   "execution_count": 193,
   "metadata": {},
   "outputs": [],
   "source": [
    "from imblearn.over_sampling import SMOTE\n",
    "\n",
    "sm = SMOTE(random_state = 55)\n",
    "\n",
    "x , y = sm.fit_resample(x_train , y_train)"
   ]
  },
  {
   "cell_type": "code",
   "execution_count": 194,
   "metadata": {},
   "outputs": [
    {
     "data": {
      "text/plain": [
       "(Counter({1: 26754, 0: 26754}), Counter({1: 26754, 0: 7841}))"
      ]
     },
     "execution_count": 194,
     "metadata": {},
     "output_type": "execute_result"
    }
   ],
   "source": [
    "Counter(y) , Counter(y_train)"
   ]
  },
  {
   "cell_type": "markdown",
   "metadata": {},
   "source": [
    "#### Using Logistic Regression as Classifier:"
   ]
  },
  {
   "cell_type": "code",
   "execution_count": 195,
   "metadata": {},
   "outputs": [],
   "source": [
    "from sklearn.linear_model import LogisticRegression\n",
    "from sklearn import metrics"
   ]
  },
  {
   "cell_type": "code",
   "execution_count": 196,
   "metadata": {},
   "outputs": [
    {
     "data": {
      "text/plain": [
       "LogisticRegression()"
      ]
     },
     "execution_count": 196,
     "metadata": {},
     "output_type": "execute_result"
    }
   ],
   "source": [
    "## Using Logistic Regression as Classifier.....\n",
    "logreg = LogisticRegression()\n",
    "logreg.fit(x , y)"
   ]
  },
  {
   "cell_type": "code",
   "execution_count": 197,
   "metadata": {},
   "outputs": [
    {
     "name": "stdout",
     "output_type": "stream",
     "text": [
      "       0      1\n",
      "0  16198  10556\n",
      "1  11314  15440\n"
     ]
    }
   ],
   "source": [
    "y_pred = logreg.predict(x)\n",
    "\n",
    "## Creating confusion matrix...\n",
    "print(pd.DataFrame(metrics.confusion_matrix(y , y_pred)))"
   ]
  },
  {
   "cell_type": "code",
   "execution_count": 198,
   "metadata": {},
   "outputs": [
    {
     "name": "stdout",
     "output_type": "stream",
     "text": [
      "Accuracy of the model : 59.12760708679075 %\n",
      "Recall Score of the model : 57.710996486506694 %\n",
      "Precision Score of the model : 59.393752885059236 %\n",
      "\n",
      "\n",
      "              precision    recall  f1-score   support\n",
      "\n",
      "           0       0.59      0.61      0.60     26754\n",
      "           1       0.59      0.58      0.59     26754\n",
      "\n",
      "    accuracy                           0.59     53508\n",
      "   macro avg       0.59      0.59      0.59     53508\n",
      "weighted avg       0.59      0.59      0.59     53508\n",
      "\n"
     ]
    }
   ],
   "source": [
    "print(\"Accuracy of the model :\" , metrics.accuracy_score(y , y_pred)*100 , \"%\")\n",
    "print(\"Recall Score of the model :\" , metrics.recall_score(y , y_pred)*100 , \"%\")\n",
    "print(\"Precision Score of the model :\" , metrics.precision_score(y , y_pred)*100 , \"%\\n\\n\")\n",
    "print(metrics.classification_report(y , y_pred))"
   ]
  },
  {
   "cell_type": "code",
   "execution_count": 199,
   "metadata": {},
   "outputs": [
    {
     "name": "stdout",
     "output_type": "stream",
     "text": [
      "      0     1\n",
      "0  1535  1062\n",
      "1  3811  5124\n"
     ]
    }
   ],
   "source": [
    "## Predicting for test set.....\n",
    "print(pd.DataFrame(metrics.confusion_matrix(y_test , logreg.predict(x_test))))"
   ]
  },
  {
   "cell_type": "code",
   "execution_count": 200,
   "metadata": {},
   "outputs": [
    {
     "name": "stdout",
     "output_type": "stream",
     "text": [
      "TEST Accuracy of the model : 57.74366978841484 %\n",
      "TEST Recall Score of the model : 57.34750979294908 %\n",
      "TEST Precision Score of the model : 82.83220174587778 %\n",
      "\n",
      "\n",
      "              precision    recall  f1-score   support\n",
      "\n",
      "           0       0.29      0.59      0.39      2597\n",
      "           1       0.83      0.57      0.68      8935\n",
      "\n",
      "    accuracy                           0.58     11532\n",
      "   macro avg       0.56      0.58      0.53     11532\n",
      "weighted avg       0.71      0.58      0.61     11532\n",
      "\n"
     ]
    }
   ],
   "source": [
    "print(\"TEST Accuracy of the model :\" , metrics.accuracy_score(y_test , logreg.predict(x_test))*100 , \"%\")\n",
    "print(\"TEST Recall Score of the model :\" , metrics.recall_score(y_test , logreg.predict(x_test))*100 , \"%\")\n",
    "print(\"TEST Precision Score of the model :\" , metrics.precision_score(y_test , logreg.predict(x_test))*100 , \"%\\n\\n\")\n",
    "print(metrics.classification_report(y_test , logreg.predict(x_test)))"
   ]
  },
  {
   "cell_type": "markdown",
   "metadata": {},
   "source": [
    "##### We can see how badly Logistic Regression Failed in predicting the test dataset.....\n",
    "- We lost Precision Score and Recall Score for predicting \"0\" - Loan Status."
   ]
  },
  {
   "cell_type": "markdown",
   "metadata": {},
   "source": [
    "#### Using Decision Tree as Classifier :"
   ]
  },
  {
   "cell_type": "code",
   "execution_count": 201,
   "metadata": {},
   "outputs": [
    {
     "name": "stdout",
     "output_type": "stream",
     "text": [
      "Training Confusion Matrix:\n",
      "        0      1\n",
      "0  26754      0\n",
      "1      0  26754\n",
      "\n",
      "Training Accuracy Score: 100.0 %\n"
     ]
    }
   ],
   "source": [
    "## Using Decision Tree as Classifier.....\n",
    "from sklearn.tree import DecisionTreeClassifier\n",
    "from sklearn import tree\n",
    "\n",
    "DTclf = DecisionTreeClassifier(criterion='gini', max_depth=None , random_state = 0)\n",
    "## Fitting with train dataset....\n",
    "DTclf.fit(x , y)\n",
    "\n",
    "## Predicting train data targets.....\n",
    "y_clf_pred = DTclf.predict(x)\n",
    "\n",
    "## Creating Confusion Matrix.....                \n",
    "print(\"Training Confusion Matrix:\\n\" , pd.DataFrame(metrics.confusion_matrix(y , y_clf_pred)))\n",
    "\n",
    "## Accuracy of train prediction....\n",
    "print(\"\\nTraining Accuracy Score:\" , metrics.accuracy_score(y , y_clf_pred)*100 , \"%\")"
   ]
  },
  {
   "cell_type": "code",
   "execution_count": 202,
   "metadata": {},
   "outputs": [
    {
     "data": {
      "text/plain": [
       "(65, 8164)"
      ]
     },
     "execution_count": 202,
     "metadata": {},
     "output_type": "execute_result"
    }
   ],
   "source": [
    "## Finding the DEPTH and No. of LEAF NODES of the Tree....\n",
    "DTclf.get_depth() , DTclf.get_n_leaves()  "
   ]
  },
  {
   "cell_type": "code",
   "execution_count": 203,
   "metadata": {
    "scrolled": true
   },
   "outputs": [],
   "source": [
    "## Finding the right depth of the tree......\n",
    "## This can be estimated by analyzing corresponding accuracy score change with train and test dataset....\n",
    "\n",
    "accuracy = []\n",
    "accuracy_test = []\n",
    "\n",
    "for i in range(1,100):\n",
    "    DTclf = DecisionTreeClassifier(criterion='gini', max_depth=i )\n",
    "    DTclf.fit(x , y)\n",
    "    accuracy.append(DTclf.score(x , y))\n",
    "    accuracy_test.append(metrics.accuracy_score(y_test , DTclf.predict(x_test)))"
   ]
  },
  {
   "cell_type": "code",
   "execution_count": 204,
   "metadata": {},
   "outputs": [
    {
     "data": {
      "text/plain": [
       "Text(0.5, 1.0, 'Max Depth VS Test Accuracy')"
      ]
     },
     "execution_count": 204,
     "metadata": {},
     "output_type": "execute_result"
    },
    {
     "data": {
      "image/png": "[encoded data removed]",
      "text/plain": [
       "<Figure size 720x630 with 2 Axes>"
      ]
     },
     "metadata": {
      "needs_background": "light"
     },
     "output_type": "display_data"
    }
   ],
   "source": [
    "plt.figure(dpi = 90 , figsize = (8,7))\n",
    "plt.subplot(2,1,1)\n",
    "plt.scatter(range(1,100) , accuracy)\n",
    "plt.ylabel(\"Model Train Accuracy\")\n",
    "plt.title(\"Max Depth VS Train Accuracy\" , fontsize = 10)\n",
    "plt.subplot(2,1,2)\n",
    "plt.scatter(range(1,100) , accuracy_test)\n",
    "plt.xlabel(\"Max Depth\")\n",
    "plt.ylabel(\"Model Test Accuracy\")\n",
    "plt.title(\"Max Depth VS Test Accuracy\" , fontsize = 10)"
   ]
  },
  {
   "cell_type": "code",
   "execution_count": 214,
   "metadata": {},
   "outputs": [
    {
     "name": "stdout",
     "output_type": "stream",
     "text": [
      "Train Confusion Matrix:\n",
      "        0      1\n",
      "0  26739     15\n",
      "1     17  26737\n",
      "\\Train Accuracy Score: 99.94019585856321 %\n"
     ]
    }
   ],
   "source": [
    "## With the help of above plot we can recreate the tree....\n",
    "## Creating the Decision Tree with MAX DEPTH of 60.....\n",
    "\n",
    "DTclf = DecisionTreeClassifier(criterion='gini', max_depth=60 , random_state = 100)\n",
    "## Fitting with train dataset....\n",
    "DTclf.fit(x , y)\n",
    "\n",
    "## Predicting train data targets.....\n",
    "y_clf_pred = DTclf.predict(x)\n",
    "\n",
    "## Creating Confusion Matrix.....                \n",
    "print(\"Train Confusion Matrix:\\n\" , pd.DataFrame(metrics.confusion_matrix(y , y_clf_pred)))\n",
    "\n",
    "## Accuracy of train prediction....\n",
    "print(\"\\Train Accuracy Score:\" , metrics.accuracy_score(y , y_clf_pred)*100 , \"%\")"
   ]
  },
  {
   "cell_type": "code",
   "execution_count": 215,
   "metadata": {
    "scrolled": true
   },
   "outputs": [
    {
     "data": {
      "text/plain": [
       "array([[ 861, 1736],\n",
       "       [2140, 6795]], dtype=int64)"
      ]
     },
     "execution_count": 215,
     "metadata": {},
     "output_type": "execute_result"
    }
   ],
   "source": [
    "## Predicting test data set and creating Confusion Matrix for Test Data set.....\n",
    "metrics.confusion_matrix(y_test , DTclf.predict(x_test))"
   ]
  },
  {
   "cell_type": "code",
   "execution_count": 216,
   "metadata": {
    "scrolled": true
   },
   "outputs": [
    {
     "data": {
      "text/plain": [
       "0.663891779396462"
      ]
     },
     "execution_count": 216,
     "metadata": {},
     "output_type": "execute_result"
    }
   ],
   "source": [
    "## Accuracy of Test prediction....\n",
    "metrics.accuracy_score(y_test , DTclf.predict(x_test))"
   ]
  },
  {
   "cell_type": "markdown",
   "metadata": {},
   "source": [
    "#### Using Random Forest as Classifier :"
   ]
  },
  {
   "cell_type": "code",
   "execution_count": 208,
   "metadata": {},
   "outputs": [
    {
     "name": "stdout",
     "output_type": "stream",
     "text": [
      "The Train accuracy is : 1.0\n",
      "\n",
      "The Confuion Matrix for Training Data is :\n",
      "        0      1\n",
      "0  26754      0\n",
      "1      0  26754\n"
     ]
    }
   ],
   "source": [
    "from sklearn.ensemble import RandomForestClassifier\n",
    "rf_model = RandomForestClassifier(n_jobs = -1 , random_state= 45)\n",
    "\n",
    "rf_model.fit(x , y)\n",
    "\n",
    "## Accuracy of train prediction....\n",
    "print(\"The Train accuracy is :\" , rf_model.score(x , y))\n",
    "\n",
    "## Creating Confusion Matrix.....                \n",
    "print(\"\\nThe Confuion Matrix for Training Data is :\\n\" , pd.DataFrame(metrics.confusion_matrix(y , \n",
    "                                                                                              rf_model.predict(x))))"
   ]
  },
  {
   "cell_type": "code",
   "execution_count": 209,
   "metadata": {},
   "outputs": [
    {
     "name": "stdout",
     "output_type": "stream",
     "text": [
      "The Test accuracy is : 0.7252861602497399\n",
      "\n",
      "The Confuion Matrix for Test Data is :\n",
      "       0     1\n",
      "0   725  1872\n",
      "1  1296  7639\n"
     ]
    }
   ],
   "source": [
    "print(\"The Test accuracy is :\" , metrics.accuracy_score(y_test , rf_model.predict(x_test)))\n",
    "\n",
    "print(\"\\nThe Confuion Matrix for Test Data is :\\n\" , pd.DataFrame(metrics.confusion_matrix(y_test , \n",
    "                                                                                           rf_model.predict(x_test))))   "
   ]
  },
  {
   "cell_type": "markdown",
   "metadata": {},
   "source": [
    "#### Using Gradient Boosting as Classifier :"
   ]
  },
  {
   "cell_type": "code",
   "execution_count": 210,
   "metadata": {},
   "outputs": [
    {
     "name": "stdout",
     "output_type": "stream",
     "text": [
      "The Train accuracy is : 0.7633437990580848\n",
      "\n",
      "The Confuion Matrix for Training Data is :\n",
      "        0      1\n",
      "0  19433   7321\n",
      "1   5342  21412\n"
     ]
    }
   ],
   "source": [
    "from sklearn.ensemble import GradientBoostingClassifier\n",
    "rf_model = GradientBoostingClassifier(random_state= 45)\n",
    "\n",
    "rf_model.fit(x , y)\n",
    "\n",
    "## Accuracy of train prediction....\n",
    "print(\"The Train accuracy is :\" , rf_model.score(x , y))\n",
    "\n",
    "## Creating Confusion Matrix.....                \n",
    "print(\"\\nThe Confuion Matrix for Training Data is :\\n\" , pd.DataFrame(metrics.confusion_matrix(y , \n",
    "                                                                                              rf_model.predict(x))))"
   ]
  },
  {
   "cell_type": "code",
   "execution_count": 211,
   "metadata": {},
   "outputs": [
    {
     "name": "stdout",
     "output_type": "stream",
     "text": [
      "The Test accuracy is : 0.6958029830038155\n",
      "\n",
      "The Confuion Matrix for Test Data is :\n",
      "       0     1\n",
      "0   923  1674\n",
      "1  1834  7101\n"
     ]
    }
   ],
   "source": [
    "print(\"The Test accuracy is :\" , metrics.accuracy_score(y_test , rf_model.predict(x_test)))\n",
    "\n",
    "print(\"\\nThe Confuion Matrix for Test Data is :\\n\" , pd.DataFrame(metrics.confusion_matrix(y_test , \n",
    "                                                                                           rf_model.predict(x_test))))   "
   ]
  },
  {
   "cell_type": "markdown",
   "metadata": {},
   "source": [
    "#### Using XGBoost as Classifier :"
   ]
  },
  {
   "cell_type": "code",
   "execution_count": 212,
   "metadata": {},
   "outputs": [
    {
     "name": "stdout",
     "output_type": "stream",
     "text": [
      "[12:30:55] WARNING: C:/Users/Administrator/workspace/xgboost-win64_release_1.3.0/src/learner.cc:1061: Starting in XGBoost 1.3.0, the default evaluation metric used with the objective 'binary:logistic' was changed from 'error' to 'logloss'. Explicitly set eval_metric if you'd like to restore the old behavior.\n"
     ]
    },
    {
     "name": "stderr",
     "output_type": "stream",
     "text": [
      "C:\\Anaconda\\lib\\site-packages\\xgboost\\sklearn.py:888: UserWarning: The use of label encoder in XGBClassifier is deprecated and will be removed in a future release. To remove this warning, do the following: 1) Pass option use_label_encoder=False when constructing XGBClassifier object; and 2) Encode your labels (y) as integers starting with 0, i.e. 0, 1, 2, ..., [num_class - 1].\n",
      "  warnings.warn(label_encoder_deprecation_msg, UserWarning)\n"
     ]
    },
    {
     "name": "stdout",
     "output_type": "stream",
     "text": [
      "The Train accuracy is : 0.8668610301263362\n",
      "\n",
      "The Confuion Matrix for Training Data is :\n",
      "        0      1\n",
      "0  20528   6226\n",
      "1    898  25856\n"
     ]
    }
   ],
   "source": [
    "from xgboost import XGBClassifier\n",
    "rf_model = XGBClassifier(random_state= 45)\n",
    "\n",
    "rf_model.fit(x , y)\n",
    "\n",
    "## Accuracy of train prediction....\n",
    "print(\"The Train accuracy is :\" , rf_model.score(x , y))\n",
    "\n",
    "## Creating Confusion Matrix.....                \n",
    "print(\"\\nThe Confuion Matrix for Training Data is :\\n\" , pd.DataFrame(metrics.confusion_matrix(y , \n",
    "                                                                                              rf_model.predict(x))))"
   ]
  },
  {
   "cell_type": "code",
   "execution_count": 213,
   "metadata": {},
   "outputs": [
    {
     "name": "stdout",
     "output_type": "stream",
     "text": [
      "The Test accuracy is : 0.7565036420395421\n",
      "\n",
      "The Confuion Matrix for Test Data is :\n",
      "      0     1\n",
      "0  367  2230\n",
      "1  578  8357\n"
     ]
    }
   ],
   "source": [
    "print(\"The Test accuracy is :\" , metrics.accuracy_score(y_test , rf_model.predict(x_test)))\n",
    "\n",
    "print(\"\\nThe Confuion Matrix for Test Data is :\\n\" , pd.DataFrame(metrics.confusion_matrix(y_test , \n",
    "                                                                                           rf_model.predict(x_test))))   "
   ]
  }
 ],
 "metadata": {
  "kernelspec": {
   "display_name": "Python 3",
   "language": "python",
   "name": "python3"
  },
  "language_info": {
   "codemirror_mode": {
    "name": "ipython",
    "version": 3
   },
   "file_extension": ".py",
   "mimetype": "text/x-python",
   "name": "python",
   "nbconvert_exporter": "python",
   "pygments_lexer": "ipython3",
   "version": "3.7.4"
  }
 },
 "nbformat": 4,
 "nbformat_minor": 2
}
